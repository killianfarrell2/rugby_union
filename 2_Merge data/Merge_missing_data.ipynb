{
 "cells": [
  {
   "cell_type": "code",
   "execution_count": 21,
   "id": "437908c9-7ac3-42bc-a2b3-4be63b47c9ea",
   "metadata": {},
   "outputs": [],
   "source": [
    "import pandas as pd\n",
    "\n",
    "all_missing = pd.read_csv('all_missing.csv')\n",
    "\n",
    "# Set folder\n",
    "set_folder = 'C:/Users/killi/KF_Repo/PGA_Golf/Python_Scripts/Rugby_Union/1_Scrape_Data/Data/'\n",
    "\n",
    "missing_stats_home = pd.read_csv(set_folder+'all_home_stats_missing.csv')\n",
    "missing_stats_away = pd.read_csv(set_folder+'all_away_stats_missing.csv')\n",
    "\n",
    "# Drop columns\n",
    "all_missing = all_missing.drop(columns=['Unnamed: 0'])\n",
    "\n",
    "# Format date\n",
    "\n",
    "# Function to convert the date format with the given year\n",
    "def convert_date(date_str, year):\n",
    "    # Add the year to the date string and convert to datetime\n",
    "    return pd.to_datetime(f'{year}.' + date_str.split('.')[0] + '.' + date_str.split('.')[1], format='%Y.%d.%m')\n",
    "\n",
    "\n",
    "# Apply the function to the 'date' column and pass the year as an argument\n",
    "all_missing['date_2'] = all_missing['date'].apply(lambda x: convert_date(x, 2024))\n",
    "\n",
    "# Create additional columns\n",
    "missing_stats_home['Home_tries'] = missing_stats_home['Try'] + missing_stats_home['Penalty Try']\n",
    "missing_stats_home['Home_conv'] = missing_stats_home['Conversion Goal']\n",
    "missing_stats_home['Home_conv_att']= missing_stats_home['Conversion Goal'] + missing_stats_home['Missed Conversion']\n",
    "missing_stats_home['Home_pg'] = missing_stats_home['Penalty Goal']\n",
    "missing_stats_home['Home_pg_att'] = missing_stats_home['Penalty Goal'] + missing_stats_home['Missed Penalty'] \n",
    "\n",
    "# Select columns\n",
    "missing_stats_home = missing_stats_home[['key', 'Home_tries', 'Home_conv',\n",
    "       'Home_conv_att', 'Home_pg', 'Home_pg_att']]\n",
    "\n",
    "# Now do the same for Away\n",
    "missing_stats_away['Away_tries'] = missing_stats_away['Try'] + missing_stats_away['Penalty Try']\n",
    "missing_stats_away['Away_conv'] = missing_stats_away['Conversion Goal']\n",
    "missing_stats_away['Away_conv_att']= missing_stats_away['Conversion Goal'] + missing_stats_away['Missed Conversion']\n",
    "missing_stats_away['Away_pg'] = missing_stats_away['Penalty Goal']\n",
    "missing_stats_away['Away_pg_att'] = missing_stats_away['Penalty Goal'] + missing_stats_away['Missed Penalty'] \n",
    "\n",
    "# Select columns\n",
    "missing_stats_away = missing_stats_away[['key', 'Away_tries', 'Away_conv',\n",
    "       'Away_conv_att', 'Away_pg', 'Away_pg_att']]\n",
    "\n",
    "# Now merge back to all missing\n",
    "all_missing_combined = pd.merge(all_missing,missing_stats_home, left_on = 'key', right_on='key')\n",
    "all_missing_combined = pd.merge(all_missing_combined,missing_stats_away, left_on = 'key', right_on='key')\n",
    "\n",
    "# Save as csv\n",
    "all_missing_combined.to_csv('all_missing_combined.csv',index=False)"
   ]
  },
  {
   "cell_type": "code",
   "execution_count": 22,
   "id": "41197d6e-9bb2-4c53-a969-9c63adadcdab",
   "metadata": {},
   "outputs": [],
   "source": [
    "# Import in all ahve statistics\n",
    "\n",
    "all_have_statistics = pd.read_csv('all_have_statistics.csv')\n",
    "\n"
   ]
  },
  {
   "cell_type": "code",
   "execution_count": 23,
   "id": "3539d4b3-1d36-40df-95f4-8f462ec5b2c6",
   "metadata": {},
   "outputs": [],
   "source": [
    "# Combine these datasets into 1\n",
    "final_dataset = pd.concat([all_have_statistics,all_missing_combined])"
   ]
  },
  {
   "cell_type": "code",
   "execution_count": 25,
   "id": "35527cb2-f838-49f6-9432-8112830a5185",
   "metadata": {},
   "outputs": [
    {
     "data": {
      "text/plain": [
       "170"
      ]
     },
     "execution_count": 25,
     "metadata": {},
     "output_type": "execute_result"
    }
   ],
   "source": [
    "len(final_dataset)"
   ]
  },
  {
   "cell_type": "code",
   "execution_count": 26,
   "id": "8ca8c32e-d49e-40a0-94fe-711c28e880ff",
   "metadata": {},
   "outputs": [
    {
     "data": {
      "text/plain": [
       "170"
      ]
     },
     "execution_count": 26,
     "metadata": {},
     "output_type": "execute_result"
    }
   ],
   "source": [
    "final_dataset.key.nunique()"
   ]
  },
  {
   "cell_type": "code",
   "execution_count": 27,
   "id": "512a1945-cb2e-4d4a-a43c-9da278dc3300",
   "metadata": {},
   "outputs": [],
   "source": [
    "# Save this as dataset\n",
    "# This can be used for modelling\n",
    "final_dataset = final_dataset.to_csv('final_dataset.csv',index=False)"
   ]
  },
  {
   "cell_type": "code",
   "execution_count": null,
   "id": "61b90ccf-4edc-48ec-af7b-72254b27e0c7",
   "metadata": {},
   "outputs": [],
   "source": []
  }
 ],
 "metadata": {
  "kernelspec": {
   "display_name": "Python 3 (ipykernel)",
   "language": "python",
   "name": "python3"
  },
  "language_info": {
   "codemirror_mode": {
    "name": "ipython",
    "version": 3
   },
   "file_extension": ".py",
   "mimetype": "text/x-python",
   "name": "python",
   "nbconvert_exporter": "python",
   "pygments_lexer": "ipython3",
   "version": "3.11.10"
  }
 },
 "nbformat": 4,
 "nbformat_minor": 5
}
