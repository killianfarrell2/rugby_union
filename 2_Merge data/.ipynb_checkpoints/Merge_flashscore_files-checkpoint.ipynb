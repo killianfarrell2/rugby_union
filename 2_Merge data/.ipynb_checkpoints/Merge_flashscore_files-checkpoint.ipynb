{
 "cells": [
  {
   "cell_type": "code",
   "execution_count": 1,
   "id": "fbd2a904-4176-49b6-94c5-5b5fb8b243eb",
   "metadata": {},
   "outputs": [],
   "source": [
    "import pandas as pd\n",
    "\n",
    "\n",
    "# Read in csv\n",
    "all_internationals = pd.read_csv('flashscore_internationals_2024.csv')\n",
    "all_stats = pd.read_csv('flashscore_internationals_all_stats.csv')"
   ]
  },
  {
   "cell_type": "code",
   "execution_count": 5,
   "id": "0e5f094a-cd9e-4e13-aa44-493614042ba8",
   "metadata": {},
   "outputs": [
    {
     "data": {
      "text/plain": [
       "'https://www.flashscore.com/match/48RLI9fA/#/match-summary/match-statistics/0'"
      ]
     },
     "execution_count": 5,
     "metadata": {},
     "output_type": "execute_result"
    }
   ],
   "source": [
    "all_stats.url[0]"
   ]
  },
  {
   "cell_type": "code",
   "execution_count": null,
   "id": "9167af66-f9bb-4a68-bafc-9e7a1397add2",
   "metadata": {},
   "outputs": [],
   "source": [
    "'https://www.flashscore.com/match/48RLI9fA/#/match-summary/match-statistics/0'"
   ]
  },
  {
   "cell_type": "code",
   "execution_count": 8,
   "id": "10e14896-efe4-48d5-abfb-b18d9476604f",
   "metadata": {},
   "outputs": [],
   "source": [
    "# Create key column to join on\n",
    "all_stats['key'] = all_stats['url'].str.replace('/match-statistics/0', '', regex=False)"
   ]
  },
  {
   "cell_type": "code",
   "execution_count": 7,
   "id": "88989616-4ec7-4343-a53c-3c9c69d113da",
   "metadata": {},
   "outputs": [
    {
     "data": {
      "text/plain": [
       "'https://www.flashscore.com/match/48RLI9fA/#/match-summary'"
      ]
     },
     "execution_count": 7,
     "metadata": {},
     "output_type": "execute_result"
    }
   ],
   "source": [
    "all_internationals.url[0]"
   ]
  },
  {
   "cell_type": "code",
   "execution_count": 38,
   "id": "96296121-65ad-46ca-9107-db45c6911147",
   "metadata": {},
   "outputs": [],
   "source": [
    "# Filter for data that I need\n",
    "\n",
    "filtered_rows = all_stats[all_stats['Attribute'].isin(['Tries',\n",
    "                                                       'Conversion Goals',\n",
    "                                                       'Conversion Goal Attempts',\n",
    "                                                        'Penalty Goals',\n",
    "                                                       'Penalty Goal Attempts',\n",
    "                                                        'Dropped Goal Attempts',\n",
    "                                                         'Dropped Goals',\n",
    "                                                      'Metres Run With Ball',\n",
    "                                                       'Yellow Cards',\n",
    "                                                       'Red Cards'])]\n",
    "\n",
    "# Select columns\n",
    "#filtered_rows = filtered_rows[['key','Attribute','Home Result','Away Result']]"
   ]
  },
  {
   "cell_type": "code",
   "execution_count": 40,
   "id": "708e25b1-a48e-4284-bb47-dfad5174fc84",
   "metadata": {},
   "outputs": [],
   "source": [
    "filtered_rows_tries = filtered_rows[filtered_rows['Attribute'] == 'Tries']\n",
    "filtered_rows_conv = filtered_rows[filtered_rows['Attribute'] == 'Conversion Goals']\n",
    "filtered_rows_conv_att = filtered_rows[filtered_rows['Attribute'] == 'Conversion Goal Attempts']\n",
    "filtered_rows_pg = filtered_rows[filtered_rows['Attribute'] == 'Penalty Goals']\n",
    "filtered_rows_pg_att = filtered_rows[filtered_rows['Attribute'] == 'Penalty Goal Attempts']\n",
    "filtered_rows_dg = filtered_rows[filtered_rows['Attribute'] ==  'Dropped Goals']\n",
    "filtered_rows_dg_att = filtered_rows[filtered_rows['Attribute'] == 'Dropped Goal Attempts']\n"
   ]
  },
  {
   "cell_type": "code",
   "execution_count": null,
   "id": "ec56c488-8e40-4626-9b67-16f482282cc0",
   "metadata": {},
   "outputs": [],
   "source": [
    "# Need to rename these columns\n",
    "# Home tries away tries etc.\n",
    "# Then join back to total dataset\n",
    "# Then try used model with that data"
   ]
  }
 ],
 "metadata": {
  "kernelspec": {
   "display_name": "Python 3 (ipykernel)",
   "language": "python",
   "name": "python3"
  },
  "language_info": {
   "codemirror_mode": {
    "name": "ipython",
    "version": 3
   },
   "file_extension": ".py",
   "mimetype": "text/x-python",
   "name": "python",
   "nbconvert_exporter": "python",
   "pygments_lexer": "ipython3",
   "version": "3.11.10"
  }
 },
 "nbformat": 4,
 "nbformat_minor": 5
}
